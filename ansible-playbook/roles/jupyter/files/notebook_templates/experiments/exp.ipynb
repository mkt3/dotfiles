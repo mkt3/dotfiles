{
 "cells": [
  {
   "cell_type": "code",
   "execution_count": 1,
   "metadata": {},
   "outputs": [],
   "source": [
    "notebook = 'nb'"
   ]
  },
  {
   "cell_type": "markdown",
   "metadata": {},
   "source": [
    "## Overview\n",
    "- "
   ]
  },
  {
   "cell_type": "code",
   "execution_count": 2,
   "metadata": {},
   "outputs": [],
   "source": [
    "import os\n",
    "import sys\n",
    "\n",
    "# Change root directory and add paths\n",
    "cwd = os.getcwd()\n",
    "if cwd.endswith('/notebooks'):\n",
    "    os.chdir(cwd.replace('/notebooks', ''))\n",
    "\n",
    "LIB_PATH=os.path.join(os.getcwd(), \"src\")\n",
    "if LIB_PATH not in sys.path:\n",
    "    sys.path.append(LIB_PATH)\n",
    "\n",
    "# Complete deletion of deleted tasks on mlflow ui\n",
    "!poetry run mlflow gc"
   ]
  },
  {
   "cell_type": "markdown",
   "metadata": {},
   "source": [
    "## library"
   ]
  },
  {
   "cell_type": "code",
   "execution_count": null,
   "metadata": {},
   "outputs": [],
   "source": []
  },
  {
   "cell_type": "markdown",
   "metadata": {},
   "source": [
    "## const"
   ]
  },
  {
   "cell_type": "code",
   "execution_count": null,
   "metadata": {},
   "outputs": [],
   "source": []
  },
  {
   "cell_type": "markdown",
   "metadata": {},
   "source": [
    "## main code"
   ]
  },
  {
   "cell_type": "code",
   "execution_count": null,
   "metadata": {},
   "outputs": [],
   "source": []
  },
  {
   "cell_type": "code",
   "execution_count": null,
   "metadata": {},
   "outputs": [],
   "source": []
  },
  {
   "cell_type": "code",
   "execution_count": null,
   "metadata": {},
   "outputs": [],
   "source": [
    "## save experiment_id and run_id\n",
    "import json\n",
    "experiment_id = mlf_logger._experiment_id\n",
    "run_id = mlf_logger._run_id\n",
    "experiment_conf_file = './notebooks/experiment_conf.json'\n",
    "if os.path.isfile(experiment_conf_file):\n",
    "    with open(experiment_conf_file, 'r') as f:\n",
    "        experiment_dict = json.load(f)\n",
    "else:\n",
    "    experiment_dict = dict()\n",
    "\n",
    "experiment_dict[notebook] = {'experiment_id': experiment_id, 'run_id': run_id}\n",
    "with open(experiment_conf_file, 'w') as f:\n",
    "    json.dump(experiment_dict, f, indent=4)"
   ]
  }
 ],
 "metadata": {
  "kernelspec": {
   "display_name": "denshosen2021",
   "language": "python",
   "name": "denshosen2021"
  },
  "language_info": {
   "codemirror_mode": {
    "name": "ipython",
    "version": 3
   },
   "file_extension": ".py",
   "mimetype": "text/x-python",
   "name": "python",
   "nbconvert_exporter": "python",
   "pygments_lexer": "ipython3",
   "version": "3.9.5"
  }
 },
 "nbformat": 4,
 "nbformat_minor": 4
}
